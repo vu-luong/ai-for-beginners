{
 "cells": [
  {
   "cell_type": "code",
   "execution_count": 5,
   "id": "550d783b-d63c-48a7-b872-b9a5e95b6e48",
   "metadata": {},
   "outputs": [
    {
     "name": "stdout",
     "output_type": "stream",
     "text": [
      "Kích thước đặc trưng: torch.Size([64, 1, 28, 28])\n",
      "Số nhãn: torch.Size([64])\n"
     ]
    },
    {
     "data": {
      "image/png": "[encoded data removed]",
      "text/plain": [
       "<Figure size 432x288 with 1 Axes>"
      ]
     },
     "metadata": {
      "needs_background": "light"
     },
     "output_type": "display_data"
    },
    {
     "name": "stdout",
     "output_type": "stream",
     "text": [
      "Nhãn: 5\n"
     ]
    }
   ],
   "source": [
    "from torchvision import datasets\n",
    "from torchvision.transforms import ToTensor\n",
    "from torch.utils.data import DataLoader\n",
    "import matplotlib.pyplot as plt\n",
    "\n",
    "training_data = datasets.FashionMNIST(\n",
    "    root=\"data\", # Lưu dữ liệu vào thư mục có tên data.\n",
    "    train=True, # Bộ dữ liệu training.\n",
    "    download=True,\n",
    "    transform=ToTensor() # Sau khi ảnh được đọc xong chúng ta có thể chuyển dữ liệu về dạng Tensor.\n",
    ")\n",
    "\n",
    "test_data = datasets.FashionMNIST(\n",
    "    root=\"data\",\n",
    "    train=False, # Bộ dữ liệu test.\n",
    "    download=True,\n",
    "    transform=ToTensor()\n",
    ")\n",
    "\n",
    "# Khởi tạo DataLoader cho bộ dữ liệu training.\n",
    "train_dataloader = DataLoader(training_data, batch_size=64, shuffle=True)\n",
    "\n",
    "# Khởi tạo DataLoader cho bộ dữ liệu test\n",
    "test_dataloader = DataLoader(test_data, batch_size=64, shuffle=True)\n",
    "\n",
    "# Lấy ra kích thước đặc trưng các quan sát và số nhãn trong bó\n",
    "train_features, train_labels = next(iter(train_dataloader))\n",
    "print(f\"Kích thước đặc trưng: {train_features.size()}\")\n",
    "print(f\"Số nhãn: {train_labels.size()}\")\n",
    "\n",
    "# Truy cập vào phần tử đầu tiên trong train_features, và loại bỏ bớt 1 chiều đến biến quan sát thành ảnh.\n",
    "img = train_features[0].squeeze()\n",
    "label = train_labels[0]\n",
    "plt.imshow(img, cmap=\"gray\")\n",
    "plt.show()\n",
    "print(f\"Nhãn: {label}\")\n"
   ]
  },
  {
   "cell_type": "code",
   "execution_count": 4,
   "id": "65044f08-0194-4acd-bc41-79285217867f",
   "metadata": {},
   "outputs": [
    {
     "data": {
      "text/plain": [
       "torch.Size([64, 1, 28, 28])"
      ]
     },
     "execution_count": 4,
     "metadata": {},
     "output_type": "execute_result"
    }
   ],
   "source": [
    "train_features.shape"
   ]
  },
  {
   "cell_type": "code",
   "execution_count": 4,
   "id": "c23f84f6-a846-46bb-8d43-f3e4c4bf5cbf",
   "metadata": {},
   "outputs": [],
   "source": [
    "import torch\n",
    "from torch import nn\n",
    "from torch.utils.data import DataLoader\n",
    "from torchvision import datasets\n",
    "from torchvision.transforms import ToTensor\n",
    "import time\n",
    "from collections import Counter\n",
    "\n",
    "learning_rate = 1e-3\n",
    "batch_size = 64\n",
    "epochs = 5\n",
    "\n",
    "training_data = datasets.FashionMNIST(\n",
    "    root=\"data\",\n",
    "    train=True,\n",
    "    download=True,\n",
    "    transform=ToTensor()\n",
    ")\n",
    "\n",
    "test_data = datasets.FashionMNIST(\n",
    "    root=\"data\",\n",
    "    train=False,\n",
    "    download=True,\n",
    "    transform=ToTensor()\n",
    ")"
   ]
  },
  {
   "cell_type": "code",
   "execution_count": 5,
   "id": "336ee6e2-ae49-48f7-97e2-0d15004ad7b7",
   "metadata": {},
   "outputs": [
    {
     "name": "stdout",
     "output_type": "stream",
     "text": [
      "Training Data Class Counts:\n",
      "Class 9: 6000\n",
      "Class 0: 6000\n",
      "Class 3: 6000\n",
      "Class 2: 6000\n",
      "Class 7: 6000\n",
      "Class 5: 6000\n",
      "Class 1: 6000\n",
      "Class 6: 6000\n",
      "Class 4: 6000\n",
      "Class 8: 6000\n",
      "\n",
      "Test Data Class Counts:\n",
      "Class 9: 1000\n",
      "Class 2: 1000\n",
      "Class 1: 1000\n",
      "Class 6: 1000\n",
      "Class 4: 1000\n",
      "Class 5: 1000\n",
      "Class 7: 1000\n",
      "Class 3: 1000\n",
      "Class 8: 1000\n",
      "Class 0: 1000\n"
     ]
    }
   ],
   "source": [
    "# Count the number of observations for each class\n",
    "def count_classes(dataset):\n",
    "    class_counts = Counter()\n",
    "    for _, label in dataset:\n",
    "        class_counts[label] += 1\n",
    "    return class_counts\n",
    "\n",
    "# Get the class counts for training and test datasets\n",
    "training_class_counts = count_classes(training_data)\n",
    "test_class_counts = count_classes(test_data)\n",
    "\n",
    "# Print the results\n",
    "print(\"Training Data Class Counts:\")\n",
    "for class_idx, count in training_class_counts.items():\n",
    "    print(f\"Class {class_idx}: {count}\")\n",
    "\n",
    "print(\"\\nTest Data Class Counts:\")\n",
    "for class_idx, count in test_class_counts.items():\n",
    "    print(f\"Class {class_idx}: {count}\")"
   ]
  },
  {
   "cell_type": "code",
   "execution_count": 2,
   "id": "2e98cac1-fbcf-4aa7-a787-6f527eb87343",
   "metadata": {},
   "outputs": [
    {
     "data": {
      "text/plain": [
       "Dataset FashionMNIST\n",
       "    Number of datapoints: 60000\n",
       "    Root location: data\n",
       "    Split: Train\n",
       "    StandardTransform\n",
       "Transform: ToTensor()"
      ]
     },
     "execution_count": 2,
     "metadata": {},
     "output_type": "execute_result"
    }
   ],
   "source": [
    "training_data"
   ]
  },
  {
   "cell_type": "code",
   "execution_count": 1,
   "id": "dabc8671-1b7e-489a-a689-4ad95f5d61c3",
   "metadata": {},
   "outputs": [
    {
     "name": "stderr",
     "output_type": "stream",
     "text": [
      "/home/vuluong/anaconda3/envs/machine_learning/lib/python3.7/site-packages/torchvision/datasets/mnist.py:498: UserWarning: The given NumPy array is not writeable, and PyTorch does not support non-writeable tensors. This means you can write to the underlying (supposedly non-writeable) NumPy array using the tensor. You may want to copy the array to protect its data or make it writeable before converting it to a tensor. This type of warning will be suppressed for the rest of this program. (Triggered internally at  /opt/conda/conda-bld/pytorch_1631630836880/work/torch/csrc/utils/tensor_numpy.cpp:180.)\n",
      "  return torch.from_numpy(parsed.astype(m[2], copy=False)).view(*s)\n"
     ]
    }
   ],
   "source": [
    "\n",
    "\n",
    "train_dataloader = DataLoader(training_data, batch_size=batch_size, shuffle=True)\n",
    "test_dataloader = DataLoader(test_data, batch_size=batch_size, shuffle=False)\n",
    "\n",
    "class CNN(nn.Module):\n",
    "    def __init__(self):\n",
    "        super(CNN, self).__init__()\n",
    "        self.conv1 = nn.Conv2d(1, 32, kernel_size=3, padding=1)\n",
    "        self.conv2 = nn.Conv2d(32, 64, kernel_size=3, padding=1)\n",
    "        self.pool = nn.MaxPool2d(2, 2)\n",
    "        self.fc1 = nn.Linear(64 * 7 * 7, 128)\n",
    "        self.fc2 = nn.Linear(128, 10)\n",
    "\n",
    "    def forward(self, x):\n",
    "        x = self.pool(torch.relu(self.conv1(x)))\n",
    "        x = self.pool(torch.relu(self.conv2(x)))\n",
    "        x = x.view(-1, 64 * 7 * 7)\n",
    "        x = torch.relu(self.fc1(x))\n",
    "        x = self.fc2(x)\n",
    "        return x\n",
    "\n",
    "model = CNN()\n",
    "\n"
   ]
  },
  {
   "cell_type": "code",
   "execution_count": 2,
   "id": "2c2389be-89ac-4e82-aff2-6413d514506d",
   "metadata": {},
   "outputs": [
    {
     "name": "stdout",
     "output_type": "stream",
     "text": [
      "CNN(\n",
      "  (conv1): Conv2d(1, 32, kernel_size=(3, 3), stride=(1, 1), padding=(1, 1))\n",
      "  (conv2): Conv2d(32, 64, kernel_size=(3, 3), stride=(1, 1), padding=(1, 1))\n",
      "  (pool): MaxPool2d(kernel_size=2, stride=2, padding=0, dilation=1, ceil_mode=False)\n",
      "  (fc1): Linear(in_features=3136, out_features=128, bias=True)\n",
      "  (fc2): Linear(in_features=128, out_features=10, bias=True)\n",
      ")\n"
     ]
    }
   ],
   "source": [
    "print(model)"
   ]
  },
  {
   "cell_type": "code",
   "execution_count": 18,
   "id": "a9131602-0de6-48d5-aa12-45c40fa152c0",
   "metadata": {},
   "outputs": [],
   "source": [
    "def train_loop(dataloader, model, loss_fn, optimizer):\n",
    "    n_samples = len(dataloader.dataset)\n",
    "    for batch, (X, y) in enumerate(dataloader):\n",
    "        # Compute prediction and loss\n",
    "        pred = model(X)\n",
    "        loss = loss_fn(pred, y)\n",
    "        \n",
    "        # import pdb\n",
    "        # pdb.set_trace()\n",
    "        make_dot(loss, params=dict(model.named_parameters()))\n",
    "\n",
    "        # Backpropagation\n",
    "        optimizer.zero_grad()\n",
    "        loss.backward()\n",
    "        optimizer.step()\n",
    "\n",
    "        if batch % 100 == 0:\n",
    "            loss_item, current = loss.item(), batch * len(X)\n",
    "            print(f\"Mất mát huấn luyện: {loss_item:>7f}  [{current:>5d}/{n_samples:>5d}]\")\n",
    "\n",
    "def test_loop(dataloader, model, loss_fn):\n",
    "    n_samples = len(dataloader.dataset)\n",
    "    num_batches = len(dataloader)\n",
    "    test_loss, correct = 0, 0\n",
    "\n",
    "    with torch.no_grad():\n",
    "        for X, y in dataloader:\n",
    "            pred = model(X)\n",
    "            test_loss += loss_fn(pred, y).item()\n",
    "            correct += (pred.argmax(1) == y).type(torch.float).sum().item()\n",
    "\n",
    "    test_loss /= num_batches\n",
    "    correct /= n_samples\n",
    "    print(f\"Tỉ lệ dự đoán chính xác: {(100*correct):>0.1f}%, mất mát trung bình: {test_loss:>8f} \\n\")"
   ]
  },
  {
   "cell_type": "code",
   "execution_count": 19,
   "id": "4a9b50f0-281f-4518-bf3c-bb05ea062631",
   "metadata": {},
   "outputs": [],
   "source": [
    "loss_fn = nn.CrossEntropyLoss()\n",
    "optimizer = torch.optim.Adam(model.parameters(), lr=learning_rate)"
   ]
  },
  {
   "cell_type": "code",
   "execution_count": 20,
   "id": "634c6d80-eb7f-4117-9ecc-2b4e7fa20ad2",
   "metadata": {},
   "outputs": [
    {
     "name": "stdout",
     "output_type": "stream",
     "text": [
      "CrossEntropyLoss()\n"
     ]
    }
   ],
   "source": [
    "print(loss_fn)"
   ]
  },
  {
   "cell_type": "code",
   "execution_count": 21,
   "id": "c72c8d1f-ad70-4d7b-8e53-d03ec0987a34",
   "metadata": {},
   "outputs": [
    {
     "name": "stdout",
     "output_type": "stream",
     "text": [
      "Chu kỳ huấn luyện 1\n",
      "-------------------------------\n",
      "Mất mát huấn luyện: 2.298908  [    0/60000]\n",
      "Mất mát huấn luyện: 0.599013  [ 6400/60000]\n",
      "Mất mát huấn luyện: 0.581856  [12800/60000]\n",
      "Mất mát huấn luyện: 0.412528  [19200/60000]\n",
      "Mất mát huấn luyện: 0.553589  [25600/60000]\n"
     ]
    },
    {
     "ename": "KeyboardInterrupt",
     "evalue": "",
     "output_type": "error",
     "traceback": [
      "\u001b[0;31m---------------------------------------------------------------------------\u001b[0m",
      "\u001b[0;31mKeyboardInterrupt\u001b[0m                         Traceback (most recent call last)",
      "\u001b[0;32m/tmp/ipykernel_16555/456196938.py\u001b[0m in \u001b[0;36m<module>\u001b[0;34m\u001b[0m\n\u001b[1;32m      7\u001b[0m     \u001b[0mprint\u001b[0m\u001b[0;34m(\u001b[0m\u001b[0;34mf\"Chu kỳ huấn luyện {t+1}\\n-------------------------------\"\u001b[0m\u001b[0;34m)\u001b[0m\u001b[0;34m\u001b[0m\u001b[0;34m\u001b[0m\u001b[0m\n\u001b[1;32m      8\u001b[0m     \u001b[0mstart_time_seconds\u001b[0m \u001b[0;34m=\u001b[0m \u001b[0mtime\u001b[0m\u001b[0;34m.\u001b[0m\u001b[0mtime\u001b[0m\u001b[0;34m(\u001b[0m\u001b[0;34m)\u001b[0m\u001b[0;34m\u001b[0m\u001b[0;34m\u001b[0m\u001b[0m\n\u001b[0;32m----> 9\u001b[0;31m     \u001b[0mtrain_loop\u001b[0m\u001b[0;34m(\u001b[0m\u001b[0mtrain_dataloader\u001b[0m\u001b[0;34m,\u001b[0m \u001b[0mmodel\u001b[0m\u001b[0;34m,\u001b[0m \u001b[0mloss_fn\u001b[0m\u001b[0;34m,\u001b[0m \u001b[0moptimizer\u001b[0m\u001b[0;34m)\u001b[0m\u001b[0;34m\u001b[0m\u001b[0;34m\u001b[0m\u001b[0m\n\u001b[0m\u001b[1;32m     10\u001b[0m     \u001b[0mend_time_seconds\u001b[0m \u001b[0;34m=\u001b[0m \u001b[0mtime\u001b[0m\u001b[0;34m.\u001b[0m\u001b[0mtime\u001b[0m\u001b[0;34m(\u001b[0m\u001b[0;34m)\u001b[0m\u001b[0;34m\u001b[0m\u001b[0;34m\u001b[0m\u001b[0m\n\u001b[1;32m     11\u001b[0m     \u001b[0mtotal_train_time\u001b[0m \u001b[0;34m+=\u001b[0m \u001b[0mend_time_seconds\u001b[0m \u001b[0;34m-\u001b[0m \u001b[0mstart_time_seconds\u001b[0m\u001b[0;34m\u001b[0m\u001b[0;34m\u001b[0m\u001b[0m\n",
      "\u001b[0;32m/tmp/ipykernel_16555/3103201072.py\u001b[0m in \u001b[0;36mtrain_loop\u001b[0;34m(dataloader, model, loss_fn, optimizer)\u001b[0m\n\u001b[1;32m      3\u001b[0m     \u001b[0;32mfor\u001b[0m \u001b[0mbatch\u001b[0m\u001b[0;34m,\u001b[0m \u001b[0;34m(\u001b[0m\u001b[0mX\u001b[0m\u001b[0;34m,\u001b[0m \u001b[0my\u001b[0m\u001b[0;34m)\u001b[0m \u001b[0;32min\u001b[0m \u001b[0menumerate\u001b[0m\u001b[0;34m(\u001b[0m\u001b[0mdataloader\u001b[0m\u001b[0;34m)\u001b[0m\u001b[0;34m:\u001b[0m\u001b[0;34m\u001b[0m\u001b[0;34m\u001b[0m\u001b[0m\n\u001b[1;32m      4\u001b[0m         \u001b[0;31m# Compute prediction and loss\u001b[0m\u001b[0;34m\u001b[0m\u001b[0;34m\u001b[0m\u001b[0;34m\u001b[0m\u001b[0m\n\u001b[0;32m----> 5\u001b[0;31m         \u001b[0mpred\u001b[0m \u001b[0;34m=\u001b[0m \u001b[0mmodel\u001b[0m\u001b[0;34m(\u001b[0m\u001b[0mX\u001b[0m\u001b[0;34m)\u001b[0m\u001b[0;34m\u001b[0m\u001b[0;34m\u001b[0m\u001b[0m\n\u001b[0m\u001b[1;32m      6\u001b[0m         \u001b[0mloss\u001b[0m \u001b[0;34m=\u001b[0m \u001b[0mloss_fn\u001b[0m\u001b[0;34m(\u001b[0m\u001b[0mpred\u001b[0m\u001b[0;34m,\u001b[0m \u001b[0my\u001b[0m\u001b[0;34m)\u001b[0m\u001b[0;34m\u001b[0m\u001b[0;34m\u001b[0m\u001b[0m\n\u001b[1;32m      7\u001b[0m \u001b[0;34m\u001b[0m\u001b[0m\n",
      "\u001b[0;32m~/anaconda3/envs/machine_learning/lib/python3.7/site-packages/torch/nn/modules/module.py\u001b[0m in \u001b[0;36m_call_impl\u001b[0;34m(self, *input, **kwargs)\u001b[0m\n\u001b[1;32m   1049\u001b[0m         if not (self._backward_hooks or self._forward_hooks or self._forward_pre_hooks or _global_backward_hooks\n\u001b[1;32m   1050\u001b[0m                 or _global_forward_hooks or _global_forward_pre_hooks):\n\u001b[0;32m-> 1051\u001b[0;31m             \u001b[0;32mreturn\u001b[0m \u001b[0mforward_call\u001b[0m\u001b[0;34m(\u001b[0m\u001b[0;34m*\u001b[0m\u001b[0minput\u001b[0m\u001b[0;34m,\u001b[0m \u001b[0;34m**\u001b[0m\u001b[0mkwargs\u001b[0m\u001b[0;34m)\u001b[0m\u001b[0;34m\u001b[0m\u001b[0;34m\u001b[0m\u001b[0m\n\u001b[0m\u001b[1;32m   1052\u001b[0m         \u001b[0;31m# Do not call functions when jit is used\u001b[0m\u001b[0;34m\u001b[0m\u001b[0;34m\u001b[0m\u001b[0;34m\u001b[0m\u001b[0m\n\u001b[1;32m   1053\u001b[0m         \u001b[0mfull_backward_hooks\u001b[0m\u001b[0;34m,\u001b[0m \u001b[0mnon_full_backward_hooks\u001b[0m \u001b[0;34m=\u001b[0m \u001b[0;34m[\u001b[0m\u001b[0;34m]\u001b[0m\u001b[0;34m,\u001b[0m \u001b[0;34m[\u001b[0m\u001b[0;34m]\u001b[0m\u001b[0;34m\u001b[0m\u001b[0;34m\u001b[0m\u001b[0m\n",
      "\u001b[0;32m/tmp/ipykernel_16555/1184342516.py\u001b[0m in \u001b[0;36mforward\u001b[0;34m(self, x)\u001b[0m\n\u001b[1;32m     38\u001b[0m     \u001b[0;32mdef\u001b[0m \u001b[0mforward\u001b[0m\u001b[0;34m(\u001b[0m\u001b[0mself\u001b[0m\u001b[0;34m,\u001b[0m \u001b[0mx\u001b[0m\u001b[0;34m)\u001b[0m\u001b[0;34m:\u001b[0m\u001b[0;34m\u001b[0m\u001b[0;34m\u001b[0m\u001b[0m\n\u001b[1;32m     39\u001b[0m         \u001b[0mx\u001b[0m \u001b[0;34m=\u001b[0m \u001b[0mself\u001b[0m\u001b[0;34m.\u001b[0m\u001b[0mpool\u001b[0m\u001b[0;34m(\u001b[0m\u001b[0mtorch\u001b[0m\u001b[0;34m.\u001b[0m\u001b[0mrelu\u001b[0m\u001b[0;34m(\u001b[0m\u001b[0mself\u001b[0m\u001b[0;34m.\u001b[0m\u001b[0mconv1\u001b[0m\u001b[0;34m(\u001b[0m\u001b[0mx\u001b[0m\u001b[0;34m)\u001b[0m\u001b[0;34m)\u001b[0m\u001b[0;34m)\u001b[0m\u001b[0;34m\u001b[0m\u001b[0;34m\u001b[0m\u001b[0m\n\u001b[0;32m---> 40\u001b[0;31m         \u001b[0mx\u001b[0m \u001b[0;34m=\u001b[0m \u001b[0mself\u001b[0m\u001b[0;34m.\u001b[0m\u001b[0mpool\u001b[0m\u001b[0;34m(\u001b[0m\u001b[0mtorch\u001b[0m\u001b[0;34m.\u001b[0m\u001b[0mrelu\u001b[0m\u001b[0;34m(\u001b[0m\u001b[0mself\u001b[0m\u001b[0;34m.\u001b[0m\u001b[0mconv2\u001b[0m\u001b[0;34m(\u001b[0m\u001b[0mx\u001b[0m\u001b[0;34m)\u001b[0m\u001b[0;34m)\u001b[0m\u001b[0;34m)\u001b[0m\u001b[0;34m\u001b[0m\u001b[0;34m\u001b[0m\u001b[0m\n\u001b[0m\u001b[1;32m     41\u001b[0m         \u001b[0mx\u001b[0m \u001b[0;34m=\u001b[0m \u001b[0mx\u001b[0m\u001b[0;34m.\u001b[0m\u001b[0mview\u001b[0m\u001b[0;34m(\u001b[0m\u001b[0;34m-\u001b[0m\u001b[0;36m1\u001b[0m\u001b[0;34m,\u001b[0m \u001b[0;36m64\u001b[0m \u001b[0;34m*\u001b[0m \u001b[0;36m7\u001b[0m \u001b[0;34m*\u001b[0m \u001b[0;36m7\u001b[0m\u001b[0;34m)\u001b[0m\u001b[0;34m\u001b[0m\u001b[0;34m\u001b[0m\u001b[0m\n\u001b[1;32m     42\u001b[0m         \u001b[0mx\u001b[0m \u001b[0;34m=\u001b[0m \u001b[0mtorch\u001b[0m\u001b[0;34m.\u001b[0m\u001b[0mrelu\u001b[0m\u001b[0;34m(\u001b[0m\u001b[0mself\u001b[0m\u001b[0;34m.\u001b[0m\u001b[0mfc1\u001b[0m\u001b[0;34m(\u001b[0m\u001b[0mx\u001b[0m\u001b[0;34m)\u001b[0m\u001b[0;34m)\u001b[0m\u001b[0;34m\u001b[0m\u001b[0;34m\u001b[0m\u001b[0m\n",
      "\u001b[0;32m~/anaconda3/envs/machine_learning/lib/python3.7/site-packages/torch/nn/modules/module.py\u001b[0m in \u001b[0;36m_call_impl\u001b[0;34m(self, *input, **kwargs)\u001b[0m\n\u001b[1;32m   1049\u001b[0m         if not (self._backward_hooks or self._forward_hooks or self._forward_pre_hooks or _global_backward_hooks\n\u001b[1;32m   1050\u001b[0m                 or _global_forward_hooks or _global_forward_pre_hooks):\n\u001b[0;32m-> 1051\u001b[0;31m             \u001b[0;32mreturn\u001b[0m \u001b[0mforward_call\u001b[0m\u001b[0;34m(\u001b[0m\u001b[0;34m*\u001b[0m\u001b[0minput\u001b[0m\u001b[0;34m,\u001b[0m \u001b[0;34m**\u001b[0m\u001b[0mkwargs\u001b[0m\u001b[0;34m)\u001b[0m\u001b[0;34m\u001b[0m\u001b[0;34m\u001b[0m\u001b[0m\n\u001b[0m\u001b[1;32m   1052\u001b[0m         \u001b[0;31m# Do not call functions when jit is used\u001b[0m\u001b[0;34m\u001b[0m\u001b[0;34m\u001b[0m\u001b[0;34m\u001b[0m\u001b[0m\n\u001b[1;32m   1053\u001b[0m         \u001b[0mfull_backward_hooks\u001b[0m\u001b[0;34m,\u001b[0m \u001b[0mnon_full_backward_hooks\u001b[0m \u001b[0;34m=\u001b[0m \u001b[0;34m[\u001b[0m\u001b[0;34m]\u001b[0m\u001b[0;34m,\u001b[0m \u001b[0;34m[\u001b[0m\u001b[0;34m]\u001b[0m\u001b[0;34m\u001b[0m\u001b[0;34m\u001b[0m\u001b[0m\n",
      "\u001b[0;32m~/anaconda3/envs/machine_learning/lib/python3.7/site-packages/torch/nn/modules/pooling.py\u001b[0m in \u001b[0;36mforward\u001b[0;34m(self, input)\u001b[0m\n\u001b[1;32m    162\u001b[0m         return F.max_pool2d(input, self.kernel_size, self.stride,\n\u001b[1;32m    163\u001b[0m                             \u001b[0mself\u001b[0m\u001b[0;34m.\u001b[0m\u001b[0mpadding\u001b[0m\u001b[0;34m,\u001b[0m \u001b[0mself\u001b[0m\u001b[0;34m.\u001b[0m\u001b[0mdilation\u001b[0m\u001b[0;34m,\u001b[0m \u001b[0mself\u001b[0m\u001b[0;34m.\u001b[0m\u001b[0mceil_mode\u001b[0m\u001b[0;34m,\u001b[0m\u001b[0;34m\u001b[0m\u001b[0;34m\u001b[0m\u001b[0m\n\u001b[0;32m--> 164\u001b[0;31m                             self.return_indices)\n\u001b[0m\u001b[1;32m    165\u001b[0m \u001b[0;34m\u001b[0m\u001b[0m\n\u001b[1;32m    166\u001b[0m \u001b[0;34m\u001b[0m\u001b[0m\n",
      "\u001b[0;32m~/anaconda3/envs/machine_learning/lib/python3.7/site-packages/torch/_jit_internal.py\u001b[0m in \u001b[0;36mfn\u001b[0;34m(*args, **kwargs)\u001b[0m\n\u001b[1;32m    403\u001b[0m             \u001b[0;32mreturn\u001b[0m \u001b[0mif_true\u001b[0m\u001b[0;34m(\u001b[0m\u001b[0;34m*\u001b[0m\u001b[0margs\u001b[0m\u001b[0;34m,\u001b[0m \u001b[0;34m**\u001b[0m\u001b[0mkwargs\u001b[0m\u001b[0;34m)\u001b[0m\u001b[0;34m\u001b[0m\u001b[0;34m\u001b[0m\u001b[0m\n\u001b[1;32m    404\u001b[0m         \u001b[0;32melse\u001b[0m\u001b[0;34m:\u001b[0m\u001b[0;34m\u001b[0m\u001b[0;34m\u001b[0m\u001b[0m\n\u001b[0;32m--> 405\u001b[0;31m             \u001b[0;32mreturn\u001b[0m \u001b[0mif_false\u001b[0m\u001b[0;34m(\u001b[0m\u001b[0;34m*\u001b[0m\u001b[0margs\u001b[0m\u001b[0;34m,\u001b[0m \u001b[0;34m**\u001b[0m\u001b[0mkwargs\u001b[0m\u001b[0;34m)\u001b[0m\u001b[0;34m\u001b[0m\u001b[0;34m\u001b[0m\u001b[0m\n\u001b[0m\u001b[1;32m    406\u001b[0m \u001b[0;34m\u001b[0m\u001b[0m\n\u001b[1;32m    407\u001b[0m     \u001b[0;32mif\u001b[0m \u001b[0mif_true\u001b[0m\u001b[0;34m.\u001b[0m\u001b[0m__doc__\u001b[0m \u001b[0;32mis\u001b[0m \u001b[0;32mNone\u001b[0m \u001b[0;32mand\u001b[0m \u001b[0mif_false\u001b[0m\u001b[0;34m.\u001b[0m\u001b[0m__doc__\u001b[0m \u001b[0;32mis\u001b[0m \u001b[0;32mnot\u001b[0m \u001b[0;32mNone\u001b[0m\u001b[0;34m:\u001b[0m\u001b[0;34m\u001b[0m\u001b[0;34m\u001b[0m\u001b[0m\n",
      "\u001b[0;32m~/anaconda3/envs/machine_learning/lib/python3.7/site-packages/torch/nn/functional.py\u001b[0m in \u001b[0;36m_max_pool2d\u001b[0;34m(input, kernel_size, stride, padding, dilation, ceil_mode, return_indices)\u001b[0m\n\u001b[1;32m    716\u001b[0m     \u001b[0;32mif\u001b[0m \u001b[0mstride\u001b[0m \u001b[0;32mis\u001b[0m \u001b[0;32mNone\u001b[0m\u001b[0;34m:\u001b[0m\u001b[0;34m\u001b[0m\u001b[0;34m\u001b[0m\u001b[0m\n\u001b[1;32m    717\u001b[0m         \u001b[0mstride\u001b[0m \u001b[0;34m=\u001b[0m \u001b[0mtorch\u001b[0m\u001b[0;34m.\u001b[0m\u001b[0mjit\u001b[0m\u001b[0;34m.\u001b[0m\u001b[0mannotate\u001b[0m\u001b[0;34m(\u001b[0m\u001b[0mList\u001b[0m\u001b[0;34m[\u001b[0m\u001b[0mint\u001b[0m\u001b[0;34m]\u001b[0m\u001b[0;34m,\u001b[0m \u001b[0;34m[\u001b[0m\u001b[0;34m]\u001b[0m\u001b[0;34m)\u001b[0m\u001b[0;34m\u001b[0m\u001b[0;34m\u001b[0m\u001b[0m\n\u001b[0;32m--> 718\u001b[0;31m     \u001b[0;32mreturn\u001b[0m \u001b[0mtorch\u001b[0m\u001b[0;34m.\u001b[0m\u001b[0mmax_pool2d\u001b[0m\u001b[0;34m(\u001b[0m\u001b[0minput\u001b[0m\u001b[0;34m,\u001b[0m \u001b[0mkernel_size\u001b[0m\u001b[0;34m,\u001b[0m \u001b[0mstride\u001b[0m\u001b[0;34m,\u001b[0m \u001b[0mpadding\u001b[0m\u001b[0;34m,\u001b[0m \u001b[0mdilation\u001b[0m\u001b[0;34m,\u001b[0m \u001b[0mceil_mode\u001b[0m\u001b[0;34m)\u001b[0m\u001b[0;34m\u001b[0m\u001b[0;34m\u001b[0m\u001b[0m\n\u001b[0m\u001b[1;32m    719\u001b[0m \u001b[0;34m\u001b[0m\u001b[0m\n\u001b[1;32m    720\u001b[0m \u001b[0;34m\u001b[0m\u001b[0m\n",
      "\u001b[0;31mKeyboardInterrupt\u001b[0m: "
     ]
    }
   ],
   "source": [
    "loss_fn = nn.CrossEntropyLoss()\n",
    "optimizer = torch.optim.Adam(model.parameters(), lr=learning_rate)\n",
    "\n",
    "total_train_time = 0\n",
    "total_test_time = 0\n",
    "for t in range(epochs):\n",
    "    print(f\"Chu kỳ huấn luyện {t+1}\\n-------------------------------\")\n",
    "    start_time_seconds = time.time()\n",
    "    train_loop(train_dataloader, model, loss_fn, optimizer)\n",
    "    end_time_seconds = time.time()\n",
    "    total_train_time += end_time_seconds - start_time_seconds\n",
    "    start_time_seconds = time.time()\n",
    "    test_loop(test_dataloader, model, loss_fn)\n",
    "    end_time_seconds = time.time()\n",
    "    total_test_time += end_time_seconds - start_time_seconds\n",
    "print(\"Hoàn thành!\")\n",
    "print(\"Thời gian huấn luyện mô hình: \" + str(total_train_time) + ' giây')\n",
    "print(\"Thời gian dự đoán kết quả trên bộ dữ liệu kiểm thử: \" + str(total_test_time/epochs) + ' giây')\n",
    "\n",
    "torch.save(model.state_dict(), \"model.pth\")\n"
   ]
  },
  {
   "cell_type": "code",
   "execution_count": null,
   "id": "3dd013bd-ec3a-4f78-9cd0-18a3f7d4ff10",
   "metadata": {},
   "outputs": [],
   "source": [
    "pred = f(w1, w2, w3...) = w1 * a1 + w2 * a2 + ...\n",
    "loss = loss_fn(pred, y) = loss_fn(w1 * a2 + w2 * a2..., y)\n",
    "\n",
    "dLoss / dw1\n",
    "dLoss / dw2...\n",
    "\n",
    "loss.backward() --> w1.grad = ?, w2.grad = ?,...\n",
    "\n",
    "optimizer.step() --> w1 = w1 - lr * w1.grad,..."
   ]
  },
  {
   "cell_type": "code",
   "execution_count": 16,
   "id": "fe5a8138-ced6-4451-8963-9fe64ef84bc3",
   "metadata": {},
   "outputs": [],
   "source": [
    "from torchviz import make_dot"
   ]
  },
  {
   "cell_type": "code",
   "execution_count": null,
   "id": "f413ab16-a7e3-4e55-a669-762d8cbca762",
   "metadata": {},
   "outputs": [],
   "source": [
    "make_dot(y1, params=dict(net.named_parameters()))"
   ]
  },
  {
   "cell_type": "code",
   "execution_count": null,
   "id": "d0b94314-951f-4ddf-bae7-babf4b503833",
   "metadata": {},
   "outputs": [],
   "source": []
  },
  {
   "cell_type": "code",
   "execution_count": 10,
   "id": "15b18b19-5f25-4b9a-82a2-31a51af4fd80",
   "metadata": {},
   "outputs": [
    {
     "name": "stdout",
     "output_type": "stream",
     "text": [
      "0.5374307976221763\n",
      "0.629944638097741\n",
      "0.7039557104781928\n",
      "0.7631645683825543\n",
      "0.8105316547060435\n",
      "0.8484253237648348\n",
      "0.8787402590118678\n",
      "0.9029922072094942\n",
      "0.9223937657675954\n",
      "0.9379150126140763\n",
      "0.950332010091261\n",
      "0.9602656080730088\n",
      "0.968212486458407\n",
      "0.9745699891667255\n",
      "0.9796559913333804\n",
      "0.9837247930667044\n",
      "0.9869798344533635\n",
      "0.9895838675626908\n",
      "0.9916670940501526\n",
      "0.9933336752401221\n",
      "0.9946669401920977\n",
      "0.9957335521536781\n",
      "0.9965868417229424\n",
      "0.9972694733783539\n",
      "0.9978155787026831\n",
      "0.9982524629621465\n",
      "0.9986019703697172\n",
      "0.9988815762957738\n",
      "0.999105261036619\n",
      "0.9992842088292953\n",
      "0.9994273670634362\n",
      "0.999541893650749\n",
      "0.9996335149205992\n",
      "0.9997068119364794\n",
      "0.9997654495491834\n",
      "0.9998123596393468\n",
      "0.9998498877114774\n",
      "0.999879910169182\n",
      "0.9999039281353456\n",
      "0.9999231425082764\n",
      "0.9999385140066211\n",
      "0.9999508112052969\n",
      "0.9999606489642375\n",
      "0.9999685191713901\n",
      "0.9999748153371121\n",
      "0.9999798522696897\n",
      "0.9999838818157517\n",
      "0.9999871054526014\n",
      "0.9999896843620811\n",
      "0.9999917474896649\n",
      "0.9999933979917319\n",
      "0.9999947183933855\n",
      "0.9999957747147084\n",
      "0.9999966197717667\n",
      "0.9999972958174134\n",
      "0.9999978366539307\n",
      "0.9999982693231446\n",
      "0.9999986154585156\n",
      "0.9999988923668125\n",
      "0.99999911389345\n",
      "0.9999992911147599\n",
      "0.9999994328918079\n",
      "0.9999995463134463\n",
      "0.9999996370507571\n",
      "0.9999997096406057\n",
      "0.9999997677124846\n",
      "0.9999998141699876\n",
      "0.9999998513359901\n",
      "0.9999998810687921\n",
      "0.9999999048550337\n",
      "0.9999999238840269\n",
      "0.9999999391072215\n",
      "0.9999999512857772\n",
      "0.9999999610286218\n",
      "0.9999999688228974\n",
      "0.999999975058318\n",
      "0.9999999800466544\n",
      "0.9999999840373235\n",
      "0.9999999872298588\n",
      "0.999999989783887\n",
      "0.9999999918271096\n",
      "0.9999999934616877\n",
      "0.9999999947693501\n",
      "0.99999999581548\n",
      "0.999999996652384\n",
      "0.9999999973219073\n",
      "0.9999999978575258\n",
      "0.9999999982860206\n",
      "0.9999999986288165\n",
      "0.9999999989030532\n",
      "0.9999999991224426\n",
      "0.9999999992979541\n",
      "0.9999999994383633\n",
      "0.9999999995506906\n",
      "0.9999999996405525\n",
      "0.999999999712442\n",
      "0.9999999997699536\n",
      "0.9999999998159629\n",
      "0.9999999998527703\n",
      "0.9999999998822162\n"
     ]
    }
   ],
   "source": [
    "import numpy as np\n",
    "learning_rate = 0.1\n",
    "x = np.random.rand()\n",
    "for iter in range(100):\n",
    "    x = x - learning_rate*(2*x - 2)\n",
    "    print(x)\n"
   ]
  },
  {
   "cell_type": "code",
   "execution_count": null,
   "id": "41f14816-ef4a-430f-b103-776956adf4e6",
   "metadata": {},
   "outputs": [],
   "source": []
  },
  {
   "cell_type": "code",
   "execution_count": null,
   "id": "a0f04346-9135-4418-b3dc-58ab0ef79ed0",
   "metadata": {},
   "outputs": [],
   "source": []
  },
  {
   "cell_type": "code",
   "execution_count": 21,
   "id": "b2708780-d7f2-4bca-a28e-e27a2af16fe3",
   "metadata": {},
   "outputs": [
    {
     "name": "stdout",
     "output_type": "stream",
     "text": [
      "Bước 1 : 0.9483451844536077\n",
      "Bước 2 : 0.9533278440625425\n",
      "Bước 3 : 0.9582789108673582\n",
      "Bước 4 : 0.9631817727104064\n",
      "Bước 5 : 0.968017193964792\n",
      "Bước 6 : 0.9727630911238845\n",
      "Bước 7 : 0.9773943924551118\n",
      "Bước 8 : 0.9818830411565445\n",
      "Bước 9 : 0.9861982141198347\n",
      "Bước 10 : 0.9903068324620686\n",
      "Bước 11 : 0.9941744272454711\n",
      "Bước 12 : 0.9977663864662416\n",
      "Bước 13 : 1.0010495449223362\n",
      "Bước 14 : 1.0039939954909358\n",
      "Bước 15 : 1.0065749210101822\n",
      "Bước 16 : 1.0087742013305852\n",
      "Bước 17 : 1.0105815655734185\n",
      "Bước 18 : 1.01199513889084\n",
      "Bước 19 : 1.0130213520157718\n",
      "Bước 20 : 1.0136742995939934\n",
      "Bước 21 : 1.0139747127546304\n",
      "Bước 22 : 1.0139487363489175\n",
      "Bước 23 : 1.0136266786439856\n",
      "Bước 24 : 1.0130418513550774\n",
      "Bước 25 : 1.0122295621286985\n",
      "Bước 26 : 1.0112262745499006\n",
      "Bước 27 : 1.0100689186398955\n",
      "Bước 28 : 1.0087943176864018\n",
      "Bước 29 : 1.007438692157884\n",
      "Bước 30 : 1.0060372047827546\n",
      "Bước 31 : 1.0046235194957924\n",
      "Bước 32 : 1.0032293584624772\n",
      "Bước 33 : 1.0018840539120937\n",
      "Bước 34 : 1.0006141034190696\n",
      "Bước 35 : 0.9994427470569759\n",
      "Bước 36 : 0.9983895911788385\n",
      "Bước 37 : 0.9974703055352923\n",
      "Bước 38 : 0.9966964178053709\n",
      "Bước 39 : 0.9960752230071568\n",
      "Bước 40 : 0.9956098160658597\n",
      "Bước 41 : 0.9952992458703367\n",
      "Bước 42 : 0.9951387802397754\n",
      "Bước 43 : 0.9951202646784388\n",
      "Bước 44 : 0.995232554226433\n",
      "Bước 45 : 0.9954619969941347\n",
      "Bước 46 : 0.9957929494274125\n",
      "Bước 47 : 0.9962083060599466\n",
      "Bước 48 : 0.996690029553865\n",
      "Bước 49 : 0.9972196695100848\n",
      "Bước 50 : 0.9977788604527433\n",
      "Bước 51 : 0.998349790476941\n",
      "Bước 52 : 0.9989156324665476\n",
      "Bước 53 : 0.9994609298677595\n",
      "Bước 54 : 0.9999719291268033\n",
      "Bước 55 : 1.000436851406347\n",
      "Bước 56 : 1.0008460973078785\n",
      "Bước 57 : 1.0011923801122502\n",
      "Bước 58 : 1.0014707854138334\n",
      "Bước 59 : 1.001678757745511\n",
      "Bước 60 : 1.0018160175854853\n",
      "Bước 61 : 1.0018844147166097\n",
      "Bước 62 : 1.0018877260472294\n",
      "Bước 63 : 1.0018314075655743\n",
      "Bước 64 : 1.0017223110546658\n",
      "Bước 65 : 1.0015683765919117\n",
      "Bước 66 : 1.0013783117983328\n",
      "Bước 67 : 1.0011612684026219\n",
      "Bước 68 : 1.00092652604596\n",
      "Bước 69 : 1.0006831924434079\n",
      "Bước 70 : 1.0004399280697998\n",
      "Bước 71 : 1.0002047024579674\n",
      "Bước 72 : 0.999984587977722\n",
      "Bước 73 : 0.9997855956019989\n",
      "Bước 74 : 0.9996125556750781\n",
      "Bước 75 : 0.999469045113002\n",
      "Bước 76 : 0.9993573608463112\n",
      "Bước 77 : 0.9992785377329285\n",
      "Bước 78 : 0.9992324077013602\n",
      "Bước 79 : 0.9992176956011828\n",
      "Bước 80 : 0.9992321461930115\n",
      "Bước 81 : 0.9992726759372467\n",
      "Bước 82 : 0.9993355427525156\n",
      "Bước 83 : 0.9994165267059204\n",
      "Bước 84 : 0.9995111146504866\n",
      "Bước 85 : 0.9996146821157755\n",
      "Bước 86 : 0.9997226662573602\n",
      "Bước 87 : 0.9998307243504976\n",
      "Bước 88 : 0.9999348731428666\n",
      "Bước 89 : 1.0000316053292058\n",
      "Bước 90 : 1.0001179804430964\n",
      "Bước 91 : 1.0001916885409319\n",
      "Bước 92 : 1.0002510861405833\n",
      "Bước 93 : 1.000295204931511\n",
      "Bước 94 : 1.000323734754278\n",
      "Bước 95 : 1.0003369832194828\n",
      "Bước 96 : 1.000335815068956\n",
      "Bước 97 : 1.0003215749533263\n",
      "Bước 98 : 1.0002959976960222\n",
      "Bước 99 : 1.0002611103292112\n",
      "Bước 100 : 1.0002191302248244\n",
      "Giá trị tối ưu của x: 1.0002191302248244\n"
     ]
    }
   ],
   "source": [
    "class Adam:\n",
    "    def __init__(self, lr=0.01, beta1=0.9, beta2=0.999, epsilon=1e-8):\n",
    "        self.lr = lr\n",
    "        self.beta1 = beta1\n",
    "        self.beta2 = beta2\n",
    "        self.epsilon = epsilon\n",
    "        self.t = 0\n",
    "        self.m = 0\n",
    "        self.v = 0\n",
    "    \n",
    "    def step(self, gradient):\n",
    "        self.t += 1\n",
    "        # Tính đạo hàm trung bình\n",
    "        self.m = self.beta1 * self.m + (1 - self.beta1) * gradient\n",
    "\n",
    "        # Tính trung bình bình phương đạo hàm\n",
    "        self.v = self.beta2 * self.v + (1 - self.beta2) * (gradient ** 2)\n",
    "        \n",
    "        # Biến đổi tỉ số cập nhật\n",
    "        m_hat = self.m / (1 - self.beta1 ** self.t)\n",
    "        v_hat = self.v / (1 - self.beta2 ** self.t)\n",
    "        \n",
    "        # Cập nhật trọng số\n",
    "        x_update = -self.lr * m_hat / (v_hat ** 0.5 + self.epsilon)\n",
    "        \n",
    "        return x_update\n",
    "\n",
    "# Khởi tạo Adam optimizer\n",
    "optimizer = Adam(lr=0.005)\n",
    "\n",
    "# Khởi tạo giá trị ban đầu cho x\n",
    "x = np.random.rand()  # Bạn có thể thử nghiệm với các giá trị khác nhau\n",
    "num_iterations = 100  # Số lượng vòng lặp\n",
    "tolerance = 1e-6  # Ngưỡng dừng khi sự thay đổi nhỏ\n",
    "\n",
    "# Tiến hành quá trình tối ưu hóa\n",
    "for _ in range(num_iterations):\n",
    "    # Tính gradient\n",
    "    gradient = 2 * x - 2  # Đạo hàm của hàm số\n",
    "    \n",
    "    # Sử dụng Adam optimizer để cập nhật giá trị của x\n",
    "    x_update = optimizer.step(gradient)\n",
    "    x += x_update\n",
    "    print(\"Bước\", optimizer.t, \":\", x)\n",
    "    \n",
    "    # Kiểm tra ngưỡng dừng\n",
    "    if abs(x_update) < tolerance:\n",
    "        break\n",
    "\n",
    "print(\"Giá trị tối ưu của x:\", x)\n"
   ]
  },
  {
   "cell_type": "code",
   "execution_count": null,
   "id": "4196091f-5be5-4aea-bddf-93245a476994",
   "metadata": {},
   "outputs": [],
   "source": []
  }
 ],
 "metadata": {
  "kernelspec": {
   "display_name": "Python 3 (ipykernel)",
   "language": "python",
   "name": "python3"
  },
  "language_info": {
   "codemirror_mode": {
    "name": "ipython",
    "version": 3
   },
   "file_extension": ".py",
   "mimetype": "text/x-python",
   "name": "python",
   "nbconvert_exporter": "python",
   "pygments_lexer": "ipython3",
   "version": "3.7.11"
  }
 },
 "nbformat": 4,
 "nbformat_minor": 5
}
